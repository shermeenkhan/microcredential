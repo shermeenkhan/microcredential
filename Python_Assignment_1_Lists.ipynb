{
  "nbformat": 4,
  "nbformat_minor": 0,
  "metadata": {
    "colab": {
      "name": "Python Assignment 1 Lists",
      "provenance": [],
      "authorship_tag": "ABX9TyNQ4bEYg1+XWe1SjmRX/gkq"
    },
    "kernelspec": {
      "name": "python3",
      "display_name": "Python 3"
    }
  },
  "cells": [
    {
      "cell_type": "code",
      "metadata": {
        "colab": {
          "base_uri": "https://localhost:8080/"
        },
        "id": "5sMBYEmekc7E",
        "outputId": "f34cf1b9-1e99-4ce6-f539-67ac5efb1567"
      },
      "source": [
        "#Create a list of 5 of your favorite tv shows. \n",
        "\n",
        "tvshows = ['Mandalorian', 'Black Mirror', 'Tonight Show with Jimmy Fallon', 'The Office', 'La Casa de Papel' ]\n",
        "print (tvshows)"
      ],
      "execution_count": null,
      "outputs": [
        {
          "output_type": "stream",
          "text": [
            "['Mandalorian', 'Black Mirror', 'Tonight Show with Jimmy Fallon', 'The Office', 'La Casa de Papel']\n"
          ],
          "name": "stdout"
        }
      ]
    },
    {
      "cell_type": "code",
      "metadata": {
        "colab": {
          "base_uri": "https://localhost:8080/"
        },
        "id": "xzmAExrQk1NL",
        "outputId": "4813ec5f-4b9c-4d81-cfc0-b9b33568a641"
      },
      "source": [
        "#Print the list in its original order.\n",
        "print (tvshows)"
      ],
      "execution_count": null,
      "outputs": [
        {
          "output_type": "stream",
          "text": [
            "['Mandalorian', 'Black Mirror', 'Tonight Show with Jimmy Fallon', 'The Office', 'La Casa de Papel']\n"
          ],
          "name": "stdout"
        }
      ]
    },
    {
      "cell_type": "code",
      "metadata": {
        "colab": {
          "base_uri": "https://localhost:8080/"
        },
        "id": "_kK1IJO0k_EK",
        "outputId": "5b506f9a-9860-4c42-ccbb-a50d7301350b"
      },
      "source": [
        "#Use the sorted() function to print the list in alphabetical order.  How is sorted() different from sort()?\n",
        "sorted (tvshows)\n",
        "\n",
        "# Normally you would use .sort() after writing the variable, however here, the sorted contains the variable name."
      ],
      "execution_count": null,
      "outputs": [
        {
          "output_type": "execute_result",
          "data": {
            "text/plain": [
              "['Black Mirror',\n",
              " 'La Casa de Papel',\n",
              " 'Mandalorian',\n",
              " 'The Office',\n",
              " 'Tonight Show with Jimmy Fallon']"
            ]
          },
          "metadata": {
            "tags": []
          },
          "execution_count": 6
        }
      ]
    },
    {
      "cell_type": "code",
      "metadata": {
        "colab": {
          "base_uri": "https://localhost:8080/"
        },
        "id": "ARZqBzxTlBmN",
        "outputId": "87dcd58d-cb2e-4fcf-9550-7de8a5b1dbb4"
      },
      "source": [
        "#Print out your original list.\n",
        "print (tvshows)"
      ],
      "execution_count": null,
      "outputs": [
        {
          "output_type": "stream",
          "text": [
            "['Mandalorian', 'Black Mirror', 'Tonight Show with Jimmy Fallon', 'The Office', 'La Casa de Papel']\n"
          ],
          "name": "stdout"
        }
      ]
    },
    {
      "cell_type": "code",
      "metadata": {
        "colab": {
          "base_uri": "https://localhost:8080/"
        },
        "id": "MCCbEOcqlkVi",
        "outputId": "44b9090b-8874-4e33-ccb9-2926b5df5996"
      },
      "source": [
        "#Used sorted() to print your list in reverse alphabetical order.\n",
        "\n",
        "sorted (tvshows, reverse=True)"
      ],
      "execution_count": null,
      "outputs": [
        {
          "output_type": "execute_result",
          "data": {
            "text/plain": [
              "['Tonight Show with Jimmy Fallon',\n",
              " 'The Office',\n",
              " 'Mandalorian',\n",
              " 'La Casa de Papel',\n",
              " 'Black Mirror']"
            ]
          },
          "metadata": {
            "tags": []
          },
          "execution_count": 8
        }
      ]
    },
    {
      "cell_type": "code",
      "metadata": {
        "colab": {
          "base_uri": "https://localhost:8080/"
        },
        "id": "KhalNEEelxVX",
        "outputId": "3618a710-d7d3-43b1-e700-4e41597a862c"
      },
      "source": [
        "# Create a message indicating how many favorite TV shows you have – use the len() function.\n",
        "\n",
        "numberofshows= len(tvshows)\n",
        "print ('I have ' + str(numberofshows) + ' favorite shows.')"
      ],
      "execution_count": null,
      "outputs": [
        {
          "output_type": "stream",
          "text": [
            "I have 5 favorite shows.\n"
          ],
          "name": "stdout"
        }
      ]
    }
  ]
}