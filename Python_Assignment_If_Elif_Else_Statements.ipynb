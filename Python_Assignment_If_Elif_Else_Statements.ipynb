{
  "nbformat": 4,
  "nbformat_minor": 0,
  "metadata": {
    "colab": {
      "name": "Python Assignment If-Elif-Else Statements.ipynb",
      "provenance": [],
      "collapsed_sections": [],
      "authorship_tag": "ABX9TyM8Ewn9bxb/mknKEuAhT3wl"
    },
    "kernelspec": {
      "name": "python3",
      "display_name": "Python 3"
    }
  },
  "cells": [
    {
      "cell_type": "code",
      "metadata": {
        "colab": {
          "base_uri": "https://localhost:8080/"
        },
        "id": "CNwuHadQcttz",
        "outputId": "281ad0b2-ceef-4cb2-b348-f83f438ae7fd"
      },
      "source": [
        "user= {'shermeenk':'admin',\n",
        "       'marierose1':'regular',\n",
        "       'lillyo': 'regular', \n",
        "       'sandyc': 'regular', \n",
        "       'jamesk': 'regular',\n",
        "       'femmyk': 'regular'}\n",
        "\n",
        "for keys, values in user.items():\n",
        "  if values == 'admin':\n",
        "    print('Welcome back Admin! We missed you!')\n",
        "  else:\n",
        "    print ('Thank you for logging in guest.')\n"
      ],
      "execution_count": 35,
      "outputs": [
        {
          "output_type": "stream",
          "text": [
            "Welcome back Admin! We missed you!\n",
            "Thank you for logging in guest.\n",
            "Thank you for logging in guest.\n",
            "Thank you for logging in guest.\n",
            "Thank you for logging in guest.\n",
            "Thank you for logging in guest.\n"
          ],
          "name": "stdout"
        }
      ]
    },
    {
      "cell_type": "code",
      "metadata": {
        "colab": {
          "base_uri": "https://localhost:8080/"
        },
        "id": "uW1iiadLe3x2",
        "outputId": "48611a13-7ffa-4f0e-f63e-e4f0a3d7a92b"
      },
      "source": [
        "numbers= [1, 2, 3, 4, 5, 6, 7, 8, 9, 10]\n",
        "\n",
        "# we will be applying the correct ordinal endings for each of the numbers\n",
        "for i in numbers:\n",
        "  if i==1:\n",
        "    print (str(i)+'st')\n",
        "  elif i==2:\n",
        "    print (str(i)+ 'nd')\n",
        "  elif i==3:\n",
        "    print (str(i)+ 'rd')\n",
        "  else:\n",
        "    print (str(i) + 'th')"
      ],
      "execution_count": 12,
      "outputs": [
        {
          "output_type": "stream",
          "text": [
            "1st\n",
            "2nd\n",
            "3rd\n",
            "4th\n",
            "5th\n",
            "6th\n",
            "7th\n",
            "8th\n",
            "9th\n",
            "10th\n"
          ],
          "name": "stdout"
        }
      ]
    }
  ]
}