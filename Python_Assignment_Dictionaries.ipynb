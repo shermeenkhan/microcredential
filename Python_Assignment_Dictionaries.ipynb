{
  "nbformat": 4,
  "nbformat_minor": 0,
  "metadata": {
    "colab": {
      "name": "Python Assignment Dictionaries.ipynb",
      "provenance": [],
      "collapsed_sections": [],
      "authorship_tag": "ABX9TyPhThPxS9TO9OX6cqgHp92L"
    },
    "kernelspec": {
      "name": "python3",
      "display_name": "Python 3"
    }
  },
  "cells": [
    {
      "cell_type": "code",
      "metadata": {
        "id": "jiy9_E6IdzFg"
      },
      "source": [
        "#Create a simple dictionary that stores 2 variables, for example: first and last name.\n",
        "\n",
        "name = {'firstname':'Shermeen',\n",
        "        'lastname': 'K'}"
      ],
      "execution_count": null,
      "outputs": []
    },
    {
      "cell_type": "code",
      "metadata": {
        "colab": {
          "base_uri": "https://localhost:8080/"
        },
        "id": "0Fq9iVVOfGVU",
        "outputId": "7d7dc7db-ab4c-4b09-e994-762ca0267c9a"
      },
      "source": [
        "#Print out those variables stored in your previous dictionary. \n",
        "print (name)"
      ],
      "execution_count": null,
      "outputs": [
        {
          "output_type": "stream",
          "text": [
            "{'firstname': 'Shermeen', 'lastname': 'K'}\n"
          ],
          "name": "stdout"
        }
      ]
    },
    {
      "cell_type": "code",
      "metadata": {
        "colab": {
          "base_uri": "https://localhost:8080/"
        },
        "id": "JAW0y5qjhuwP",
        "outputId": "ea2904b1-313f-4ee2-cda8-917f22bfc1d3"
      },
      "source": [
        "#Add a message to those variables on printing: for example: “Hello, firstname lastname!”\n",
        "\n",
        "print ('Hello,' + \" \" + name['firstname']+ \" \" + name['lastname']) "
      ],
      "execution_count": null,
      "outputs": [
        {
          "output_type": "stream",
          "text": [
            "Hello, Shermeen K\n"
          ],
          "name": "stdout"
        }
      ]
    },
    {
      "cell_type": "code",
      "metadata": {
        "id": "BzPDRmQ-ismy",
        "colab": {
          "base_uri": "https://localhost:8080/"
        },
        "outputId": "14638b68-0129-4c2e-8a74-335a53af8d3e"
      },
      "source": [
        "#Create a dictionary that holds 2 key: value pairs:\n",
        "#Look through your dictionary and print each pair,\n",
        "\n",
        "patient = {'player_number1': 1, \n",
        "           'player_number2': 2,\n",
        "           'player_number3' : 3\n",
        "}\n",
        "\n",
        "for first_name, last_name in patient.items():\n",
        "  print('Person 1 has the player number: ' + str(patient['player_number1']))\n",
        "  print('Person 2 has the player number: ' + str(patient['player_number2']))\n",
        "  print('Person 3 has the player number: ' + str(patient['player_number3']))"
      ],
      "execution_count": 11,
      "outputs": [
        {
          "output_type": "stream",
          "text": [
            "Person 1 has the player number: 1\n",
            "Person 2 has the player number: 2\n",
            "Person 3 has the player number: 3\n",
            "Person 1 has the player number: 1\n",
            "Person 2 has the player number: 2\n",
            "Person 3 has the player number: 3\n",
            "Person 1 has the player number: 1\n",
            "Person 2 has the player number: 2\n",
            "Person 3 has the player number: 3\n"
          ],
          "name": "stdout"
        }
      ]
    },
    {
      "cell_type": "code",
      "metadata": {
        "id": "X2QwQagZjPhH",
        "colab": {
          "base_uri": "https://localhost:8080/"
        },
        "outputId": "1a47a4ed-72aa-4006-b9c7-ffc4dc0f6f14"
      },
      "source": [
        "#Create a nested dictionary containing three dictionaries – these dictionaries could be anything (favorite pets, travel locations, etc.)\n",
        "# Loop through the dictionaries and print a message for each.\n",
        "\n",
        "people= {'person1': {'name': 'Shermeen', 'favoritepet': 'parakeet', 'favoriteplace': 'Santorini'},\n",
        "         'person2': {'name': 'Millie', 'favoritepet': 'dog', 'favoriteplace': 'Tokyo'},\n",
        "         'person3': {'name': 'Shannon', 'favoritepet': 'cat', 'favoriteplace': 'Buenos Aires'}\n",
        "}\n",
        "\n",
        "print (people['person1']['name'] + ' has a favorite pet that is ' + people['person1']['favoritepet'] + ' and their favorite place to travel is '+ people['person1']['favoriteplace'])\n",
        "print (people['person2']['name'] + ' has a favorite pet that is ' + people['person2']['favoritepet'] + ' and their favorite place to travel is '+ people['person2']['favoriteplace'])\n",
        "print (people['person3']['name'] + ' has a favorite pet that is ' + people['person3']['favoritepet'] + ' and their favorite place to travel is '+ people['person3']['favoriteplace'])"
      ],
      "execution_count": 12,
      "outputs": [
        {
          "output_type": "stream",
          "text": [
            "Shermeen has a favorite pet that is parakeet and their favorite place to travel is Santorini\n",
            "Millie has a favorite pet that is dog and their favorite place to travel is Tokyo\n",
            "Shannon has a favorite pet that is cat and their favorite place to travel is Buenos Aires\n"
          ],
          "name": "stdout"
        }
      ]
    },
    {
      "cell_type": "code",
      "metadata": {
        "id": "Ke8WQzSUO4zn"
      },
      "source": [
        ""
      ],
      "execution_count": null,
      "outputs": []
    }
  ]
}