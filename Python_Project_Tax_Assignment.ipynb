{
  "nbformat": 4,
  "nbformat_minor": 0,
  "metadata": {
    "colab": {
      "name": "Python Project Tax Assignment.ipynb",
      "provenance": [],
      "collapsed_sections": [],
      "authorship_tag": "ABX9TyMHLDNkVa6Aq3oep60dQnuA",
      "include_colab_link": true
    },
    "kernelspec": {
      "name": "python3",
      "display_name": "Python 3"
    }
  },
  "cells": [
    {
      "cell_type": "markdown",
      "metadata": {
        "id": "view-in-github",
        "colab_type": "text"
      },
      "source": [
        "<a href=\"https://colab.research.google.com/github/shermeenkhan/microcredential-class-lgcc/blob/main/Python_Project_Tax_Assignment.ipynb\" target=\"_parent\"><img src=\"https://colab.research.google.com/assets/colab-badge.svg\" alt=\"Open In Colab\"/></a>"
      ]
    },
    {
      "cell_type": "code",
      "metadata": {
        "colab": {
          "base_uri": "https://localhost:8080/"
        },
        "id": "HwxTVfu-qmyb",
        "outputId": "0d49aa14-7441-40ac-9a2f-fbd6524b1bf3"
      },
      "source": [
        "def gross_pay (hours, wage):\n",
        "  if (hours_worked >= 40):\n",
        "    regularpay = 40 * wage\n",
        "    overtime_pay = (hours - 40) * wage * 1.5\n",
        "    return (regular_pay + overtime_pay)\n",
        "  else:\n",
        "    return (hours * wage)\n",
        "\n",
        "def fouroone ():\n",
        "  return (0.1 * grosspay)\n",
        "\n",
        "def health_insurance ():\n",
        "  return (0.05 * grosspay)\n",
        "\n",
        "def total_tax (fed, state):\n",
        "  return (0.27 * grosspay)\n",
        "\n",
        "def net_pay (netpay):\n",
        "  return (netpay)\n",
        "\n",
        "hours_worked = float(input('How many hours did you work? '))\n",
        "hourly_wage = float(input('What is your hourly wage? '))\n",
        "\n",
        "grosspay= hours_worked * hourly_wage\n",
        "print (grosspay)\n",
        "\n",
        "\n",
        "fouroone= grosspay * .10\n",
        "print ('The 401K tax is: ' + str(round(fourone, 3)))\n",
        "\n",
        "federaltaxrate = grosspay * .20\n",
        "print ('The federal tax is: ' + str(round(federaltaxrate, 3)))\n",
        "\n",
        "statetaxrate = grosspay * .07\n",
        "print ('The state tax is: ' + str(round(statetaxrate,3)))\n",
        "\n",
        "health_insurance = grosspay * .05\n",
        "print ('The health insurance tax is: ' + str(round(health_insurance, 3)))\n",
        "\n",
        "alltaxes= fourone + federaltaxrate + statetaxrate + health_insurance\n",
        "netpay = grosspay - alltaxes\n",
        "print ('The net pay is: ' + str(round(netpay, 3)))"
      ],
      "execution_count": null,
      "outputs": [
        {
          "output_type": "stream",
          "text": [
            "How many hours did you work? 40\n",
            "What is your hourly wage? 40\n",
            "1600.0\n",
            "The 401K tax is: 191.1\n",
            "The federal tax is: 320.0\n",
            "The state tax is: 112.0\n",
            "The health insurance tax is: 80.0\n",
            "The net pay is: 896.9\n"
          ],
          "name": "stdout"
        }
      ]
    },
    {
      "cell_type": "code",
      "metadata": {
        "colab": {
          "base_uri": "https://localhost:8080/"
        },
        "id": "ehqT0_RDT5qb",
        "outputId": "d17aff58-ff5d-41a6-ffb6-5621a097a9c3"
      },
      "source": [
        "# produce gross pay\n",
        "# net pay\n",
        "# also all of the other deductions that may follow\n",
        "# trying to enter x amount of pay.\n",
        "# 401 is calculated before tax is deducted\n",
        "# 1000-10% is off first\n",
        "# input entry of hours worked and pay rate\n",
        "# after 40 hours, the employees receives time and a half pay.\n",
        "\n",
        "hours = int (input('Please indicate the number of hours you worked this week: '))\n",
        "payrate= int (input('Please indicate how much you make per hour: '))\n",
        "grosspay= hours * payrate\n",
        "\n",
        "if hours <= 40:\n",
        "  print ('The gross pay without overtime is: ' + (hours * payrate))\n",
        "else:\n",
        "  print ('The gross pay with overtime is: ' + str(hours * (payrate * 1.5)))\n",
        "\n",
        "fouronek=grosspay * .10\n",
        "print ('The 401K tax is: ' + str(fouroonek))\n",
        "\n",
        "federaltaxrate = grosspay * .20\n",
        "print ('The federal tax is: ' + str(federaltaxrate))\n",
        "\n",
        "statetaxrate = grosspay * .07\n",
        "print ('The state tax is: ' + str(statetaxrate))\n",
        "\n",
        "healthinsurance = grosspay * .05\n",
        "print ('The health insurance tax is: ' + str(healthinsurance))\n",
        "\n",
        "alltaxes= fouroonek + federaltaxrate + statetaxrate + healthinsurance\n",
        "netpay = grosspay - alltaxes\n",
        "print ('The net pay is: ' + str(netpay))"
      ],
      "execution_count": null,
      "outputs": [
        {
          "output_type": "stream",
          "text": [
            "Please indicate the number of hours you worked this week: 50\n",
            "Please indicate how much you make per hour: 40\n",
            "The gross pay with overtime is: 3000.0\n",
            "The 401K tax is: 120.0\n",
            "The federal tax is: 400.0\n",
            "The state tax is: 140.0\n",
            "The health insurance tax is: 100.0\n",
            "The net pay is: 1240.0\n"
          ],
          "name": "stdout"
        }
      ]
    }
  ]
}