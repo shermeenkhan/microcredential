{
  "nbformat": 4,
  "nbformat_minor": 0,
  "metadata": {
    "colab": {
      "name": "Python Assignment #1 Strings",
      "provenance": []
    },
    "kernelspec": {
      "name": "python3",
      "display_name": "Python 3"
    }
  },
  "cells": [
    {
      "cell_type": "code",
      "metadata": {
        "colab": {
          "base_uri": "https://localhost:8080/"
        },
        "id": "W0vfp--njeQW",
        "outputId": "33514ff0-0c28-4a79-e856-35f63ec709af"
      },
      "source": [
        "# Create a variable that holds the string “hello there!”\n",
        "x= \"hello there!\"\n",
        "print (x)"
      ],
      "execution_count": 7,
      "outputs": [
        {
          "output_type": "stream",
          "text": [
            "hello there!\n"
          ],
          "name": "stdout"
        }
      ]
    },
    {
      "cell_type": "code",
      "metadata": {
        "colab": {
          "base_uri": "https://localhost:8080/"
        },
        "id": "yTUV_Muwi3TY",
        "outputId": "ebf1a856-6186-4975-b74c-fec407bd17b8"
      },
      "source": [
        "# Create a variable for first name, last name and an email extension.  \n",
        "# Concatenating all three together to form an email address.  For example: firstnamelastname@gmail.com\n",
        "\n",
        "firstname= input(\"Input your first name: \")\n",
        "lastname= input(\"Input your last name: \")\n",
        "emailext= input (\"What is your primary email server? \")\n",
        "\n",
        "print (firstname + lastname + '@'+ emailext +'.com')"
      ],
      "execution_count": null,
      "outputs": [
        {
          "output_type": "stream",
          "text": [
            "Input your first name: Shermeen\n",
            "Input your last name: Khan\n",
            "What is your primary email server? gmail\n",
            "ShermeenKhan@gmail.com\n"
          ],
          "name": "stdout"
        }
      ]
    },
    {
      "cell_type": "code",
      "metadata": {
        "colab": {
          "base_uri": "https://localhost:8080/"
        },
        "id": "XrSPXHA2jQuH",
        "outputId": "422cd0e9-ad64-4d04-cd32-28f7a40b91c6"
      },
      "source": [
        "#Using a variable, ask your friend if they want to hang out on the 15th of the month.  \n",
        "# For example, “Do you want to hang out on the 15th of this month?”  You should have to convert the number to a string.\n",
        "\n",
        "x='Do you want to hang out on the 15th of the month.'\n",
        "print (x)"
      ],
      "execution_count": null,
      "outputs": [
        {
          "output_type": "stream",
          "text": [
            "Do you want to hang out on the 15th of the month.\n"
          ],
          "name": "stdout"
        }
      ]
    },
    {
      "cell_type": "code",
      "metadata": {
        "id": "OLrbTbfsj0L1"
      },
      "source": [
        ""
      ],
      "execution_count": null,
      "outputs": []
    }
  ]
}