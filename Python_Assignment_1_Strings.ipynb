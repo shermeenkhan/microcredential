{
  "nbformat": 4,
  "nbformat_minor": 0,
  "metadata": {
    "colab": {
      "name": "Python Assignment #1 Strings",
      "provenance": [],
      "authorship_tag": "ABX9TyPe10r/7VlVG8ptLuidJ9K5"
    },
    "kernelspec": {
      "name": "python3",
      "display_name": "Python 3"
    }
  },
  "cells": [
    {
      "cell_type": "code",
      "metadata": {
        "colab": {
          "base_uri": "https://localhost:8080/"
        },
        "id": "W0vfp--njeQW",
        "outputId": "33514ff0-0c28-4a79-e856-35f63ec709af"
      },
      "source": [
        "# Create a variable that holds the string “hello there!”\n",
        "x= \"hello there!\"\n",
        "print (x)"
      ],
      "execution_count": null,
      "outputs": [
        {
          "output_type": "stream",
          "text": [
            "hello there!\n"
          ],
          "name": "stdout"
        }
      ]
    },
    {
      "cell_type": "code",
      "metadata": {
        "colab": {
          "base_uri": "https://localhost:8080/"
        },
        "id": "yTUV_Muwi3TY",
        "outputId": "35f946df-8504-42bf-ec03-ca9a74f8f6d7"
      },
      "source": [
        "# Create a variable for first name, last name and an email extension.  \n",
        "# Concatenating all three together to form an email address.  For example: firstnamelastname@gmail.com\n",
        "\n",
        "firstname= input(\"Input your first name: \")\n",
        "lastname= input(\"Input your last name: \")\n",
        "emailext= input (\"What is your primary email server? \")\n",
        "\n",
        "print (firstname + lastname + '@'+ emailext +'.com')"
      ],
      "execution_count": 10,
      "outputs": [
        {
          "output_type": "stream",
          "text": [
            "Input your first name: Shermeen\n",
            "Input your last name: K\n",
            "What is your primary email server? gmail\n",
            "ShermeenK@gmail.com\n"
          ],
          "name": "stdout"
        }
      ]
    },
    {
      "cell_type": "code",
      "metadata": {
        "colab": {
          "base_uri": "https://localhost:8080/"
        },
        "id": "KlSqBG3owIpT",
        "outputId": "1912c2fb-dab5-4b6e-b50f-c8288137122f"
      },
      "source": [
        "#Store someone's name in a variable called name.  Print their name in lower and uppercase using a method.\n",
        "\n",
        "firstname= input(\"Input your first name: \")\n",
        "lastname= input(\"Input your last name: \")\n",
        "fullname=firstname + lastname\n",
        "print (fullname.title())"
      ],
      "execution_count": 9,
      "outputs": [
        {
          "output_type": "stream",
          "text": [
            "Input your first name: Shermeen \n",
            "Input your last name: K\n",
            "Shermeen K\n"
          ],
          "name": "stdout"
        }
      ]
    },
    {
      "cell_type": "code",
      "metadata": {
        "id": "1It-GLPAwpab"
      },
      "source": [
        ""
      ],
      "execution_count": null,
      "outputs": []
    }
  ]
}